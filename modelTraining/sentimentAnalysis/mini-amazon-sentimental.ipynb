{
 "cells": [
  {
   "cell_type": "markdown",
   "metadata": {},
   "source": [
    "## Install dependencies"
   ]
  },
  {
   "cell_type": "code",
   "execution_count": null,
   "metadata": {},
   "outputs": [],
   "source": [
    "%pip install datasets\n",
    "%pip install pandas\n",
    "%pip install transformers\n",
    "%pip install torch\n",
    "%pip install transformers"
   ]
  },
  {
   "cell_type": "markdown",
   "metadata": {},
   "source": [
    "Setup Pipeline"
   ]
  },
  {
   "cell_type": "code",
   "execution_count": 2,
   "metadata": {},
   "outputs": [
    {
     "name": "stderr",
     "output_type": "stream",
     "text": [
      "c:\\Users\\PRIMUS PALADIN\\Desktop\\work\\modelTest\\.venv\\lib\\site-packages\\tqdm\\auto.py:21: TqdmWarning: IProgress not found. Please update jupyter and ipywidgets. See https://ipywidgets.readthedocs.io/en/stable/user_install.html\n",
      "  from .autonotebook import tqdm as notebook_tqdm\n"
     ]
    }
   ],
   "source": [
    "from transformers import pipeline\n",
    "import torch\n",
    "device = torch.device(\"cuda\" if torch.cuda.is_available() else \"cpu\")\n",
    "# Load sentiment analysis pipeline \n",
    "sentiment_pipeline = pipeline(\"sentiment-analysis\", model=\"nlptown/bert-base-multilingual-uncased-sentiment\",batch_size=4, device=0,  max_length=512, truncation=True)\n"
   ]
  },
  {
   "cell_type": "markdown",
   "metadata": {},
   "source": [
    "Setup Test Dataset , Clean it , concat the text column"
   ]
  },
  {
   "cell_type": "code",
   "execution_count": 3,
   "metadata": {},
   "outputs": [
    {
     "name": "stdout",
     "output_type": "stream",
     "text": [
      "Dataset({\n",
      "    features: ['title', 'content', 'text'],\n",
      "    num_rows: 400000\n",
      "})\n"
     ]
    }
   ],
   "source": [
    "from transformers.pipelines.pt_utils import KeyDataset\n",
    "import datasets\n",
    "\n",
    "# dataset = load_dataset(\"amazon_polarity\")\n",
    "test_dataset = datasets.load_dataset(\"amazon_polarity\", split=\"test\")\n",
    "\n",
    "test_dataset = test_dataset.remove_columns(\"label\")\n",
    "\n",
    "# Add a new column by concatenating \"title\" and \"content\"\n",
    "test_dataset = test_dataset.map(lambda example: {\"text\": example[\"title\"] + \" \" + example[\"content\"]})\n",
    "\n",
    "print(test_dataset)\n"
   ]
  },
  {
   "cell_type": "markdown",
   "metadata": {},
   "source": [
    "Perform the sentimental analysis on the test dataset"
   ]
  },
  {
   "cell_type": "code",
   "execution_count": 4,
   "metadata": {},
   "outputs": [
    {
     "name": "stdout",
     "output_type": "stream",
     "text": [
      "{'title': 'Great CD', 'content': 'My lovely Pat has one of the GREAT voices of her generation. I have listened to this CD for YEARS and I still LOVE IT. When I\\'m in a good mood it makes me feel better. A bad mood just evaporates like sugar in the rain. This CD just oozes LIFE. Vocals are jusat STUUNNING and lyrics just kill. One of life\\'s hidden gems. This is a desert isle CD in my book. Why she never made it big is just beyond me. Everytime I play this, no matter black, white, young, old, male, female EVERYBODY says one thing \"Who was that singing ?\"', 'text': 'Great CD My lovely Pat has one of the GREAT voices of her generation. I have listened to this CD for YEARS and I still LOVE IT. When I\\'m in a good mood it makes me feel better. A bad mood just evaporates like sugar in the rain. This CD just oozes LIFE. Vocals are jusat STUUNNING and lyrics just kill. One of life\\'s hidden gems. This is a desert isle CD in my book. Why she never made it big is just beyond me. Everytime I play this, no matter black, white, young, old, male, female EVERYBODY says one thing \"Who was that singing ?\"'}\n"
     ]
    },
    {
     "name": "stderr",
     "output_type": "stream",
     "text": [
      "Map:   0%|          | 1280/400000 [00:08<36:47, 180.62 examples/s] c:\\Users\\PRIMUS PALADIN\\Desktop\\work\\modelTest\\.venv\\lib\\site-packages\\transformers\\pipelines\\base.py:1123: UserWarning: You seem to be using the pipelines sequentially on GPU. In order to maximize efficiency please use a dataset\n",
      "  warnings.warn(\n",
      "Map: 100%|██████████| 400000/400000 [35:26<00:00, 188.09 examples/s]"
     ]
    },
    {
     "name": "stdout",
     "output_type": "stream",
     "text": [
      "{'title': 'Great CD', 'content': 'My lovely Pat has one of the GREAT voices of her generation. I have listened to this CD for YEARS and I still LOVE IT. When I\\'m in a good mood it makes me feel better. A bad mood just evaporates like sugar in the rain. This CD just oozes LIFE. Vocals are jusat STUUNNING and lyrics just kill. One of life\\'s hidden gems. This is a desert isle CD in my book. Why she never made it big is just beyond me. Everytime I play this, no matter black, white, young, old, male, female EVERYBODY says one thing \"Who was that singing ?\"', 'text': 'Great CD My lovely Pat has one of the GREAT voices of her generation. I have listened to this CD for YEARS and I still LOVE IT. When I\\'m in a good mood it makes me feel better. A bad mood just evaporates like sugar in the rain. This CD just oozes LIFE. Vocals are jusat STUUNNING and lyrics just kill. One of life\\'s hidden gems. This is a desert isle CD in my book. Why she never made it big is just beyond me. Everytime I play this, no matter black, white, young, old, male, female EVERYBODY says one thing \"Who was that singing ?\"', 'label': {'label': '5 stars', 'score': tensor(0.8802, device='cuda:0')}}\n"
     ]
    },
    {
     "name": "stderr",
     "output_type": "stream",
     "text": [
      "\n"
     ]
    }
   ],
   "source": [
    "\n",
    "test_dataset = test_dataset.with_format(\"torch\", device=device)\n",
    "\n",
    "test_results = []\n",
    "\n",
    "def map_dataset(examples):\n",
    "    sent = sentiment_pipeline(examples[\"text\"],batch_size=4, truncation=True)\n",
    "    test_results.append(sent)\n",
    "    return {\"label\":sent }\n",
    "\n",
    "\n",
    "print(test_dataset[0])\n",
    "\n",
    "encoded_test_dataset = test_dataset.map(map_dataset, batched=True, batch_size=128)\n",
    "\n",
    "print(encoded_test_dataset[0])\n"
   ]
  },
  {
   "cell_type": "markdown",
   "metadata": {},
   "source": [
    "Clean the final test dataset"
   ]
  },
  {
   "cell_type": "code",
   "execution_count": 6,
   "metadata": {},
   "outputs": [
    {
     "name": "stderr",
     "output_type": "stream",
     "text": [
      "Map: 100%|██████████| 400000/400000 [02:21<00:00, 2820.09 examples/s]"
     ]
    },
    {
     "name": "stdout",
     "output_type": "stream",
     "text": [
      "{'title': 'Great CD', 'content': 'My lovely Pat has one of the GREAT voices of her generation. I have listened to this CD for YEARS and I still LOVE IT. When I\\'m in a good mood it makes me feel better. A bad mood just evaporates like sugar in the rain. This CD just oozes LIFE. Vocals are jusat STUUNNING and lyrics just kill. One of life\\'s hidden gems. This is a desert isle CD in my book. Why she never made it big is just beyond me. Everytime I play this, no matter black, white, young, old, male, female EVERYBODY says one thing \"Who was that singing ?\"', 'text': 'Great CD My lovely Pat has one of the GREAT voices of her generation. I have listened to this CD for YEARS and I still LOVE IT. When I\\'m in a good mood it makes me feel better. A bad mood just evaporates like sugar in the rain. This CD just oozes LIFE. Vocals are jusat STUUNNING and lyrics just kill. One of life\\'s hidden gems. This is a desert isle CD in my book. Why she never made it big is just beyond me. Everytime I play this, no matter black, white, young, old, male, female EVERYBODY says one thing \"Who was that singing ?\"', 'label': {'label': '5 stars', 'score': tensor(0.8802, device='cuda:0')}, 'sentiment': 'Perfect', 'score': tensor(0.8802, device='cuda:0')}\n"
     ]
    },
    {
     "name": "stderr",
     "output_type": "stream",
     "text": [
      "\n"
     ]
    }
   ],
   "source": [
    "def label_sentiment(sent):\n",
    "    if sent['label'] == '5 stars':\n",
    "        return 'Perfect'\n",
    "    elif sent['label'] == '4 stars':\n",
    "        return 'Satisfied'\n",
    "    elif sent['label'] == '3 stars':\n",
    "        return 'Neutral'\n",
    "    elif sent['label'] == '2 stars' or sent['label'] == '1 star':\n",
    "        return 'Negative'\n",
    "    else:\n",
    "        return 'Unknown'\n",
    "    \n",
    "def map_dataset_new_label(examples):\n",
    "    label_info = examples[\"label\"]\n",
    "    label_title = label_sentiment(label_info)  # Extract the label value from the tensor\n",
    "    score = label_info[\"score\"].item()  # Extract the score value from the tensor\n",
    "    return {\"title\": examples[\"title\"], \"content\": examples[\"content\"],\"text\":examples[\"text\"], \"sentiment\": label_title, \"score\": score}\n",
    "\n",
    "encoded_test_dataset = encoded_test_dataset.map(map_dataset_new_label)\n",
    "print(encoded_test_dataset[0])"
   ]
  },
  {
   "cell_type": "markdown",
   "metadata": {},
   "source": [
    "Save the test dataset"
   ]
  },
  {
   "cell_type": "code",
   "execution_count": 7,
   "metadata": {},
   "outputs": [],
   "source": [
    "# Convert the dataset to a pandas DataFrame\n",
    "test_df = encoded_test_dataset.to_pandas()\n",
    "\n",
    "# Save the DataFrame to a CSV file\n",
    "test_df.to_csv(\"encoded_test_dataset.csv\", index=False)"
   ]
  },
  {
   "cell_type": "markdown",
   "metadata": {},
   "source": [
    "Train dataset, same process"
   ]
  },
  {
   "cell_type": "code",
   "execution_count": 10,
   "metadata": {},
   "outputs": [
    {
     "name": "stderr",
     "output_type": "stream",
     "text": [
      "Map: 100%|██████████| 3600000/3600000 [01:42<00:00, 35027.97 examples/s]"
     ]
    },
    {
     "name": "stdout",
     "output_type": "stream",
     "text": [
      "Dataset({\n",
      "    features: ['title', 'content', 'text'],\n",
      "    num_rows: 3600000\n",
      "})\n"
     ]
    },
    {
     "name": "stderr",
     "output_type": "stream",
     "text": [
      "\n"
     ]
    }
   ],
   "source": [
    "from transformers.pipelines.pt_utils import KeyDataset\n",
    "import datasets\n",
    "\n",
    "# dataset = load_dataset(\"amazon_polarity\")\n",
    "dataset = datasets.load_dataset(\"amazon_polarity\", split=\"train\")\n",
    "\n",
    "dataset = dataset.remove_columns(\"label\")\n",
    "\n",
    "# Add a new column by concatenating \"title\" and \"content\"\n",
    "dataset = dataset.map(lambda example: {\"text\": example[\"title\"] + \" \" + example[\"content\"]})\n",
    "\n",
    "\n",
    "len(dataset)\n",
    "print(dataset)\n"
   ]
  },
  {
   "cell_type": "code",
   "execution_count": 11,
   "metadata": {},
   "outputs": [
    {
     "name": "stdout",
     "output_type": "stream",
     "text": [
      "{'title': 'Stuning even for the non-gamer', 'content': 'This sound track was beautiful! It paints the senery in your mind so well I would recomend it even to people who hate vid. game music! I have played the game Chrono Cross but out of all of the games I have ever played it has the best music! It backs away from crude keyboarding and takes a fresher step with grate guitars and soulful orchestras. It would impress anyone who cares to listen! ^_^', 'text': 'Stuning even for the non-gamer This sound track was beautiful! It paints the senery in your mind so well I would recomend it even to people who hate vid. game music! I have played the game Chrono Cross but out of all of the games I have ever played it has the best music! It backs away from crude keyboarding and takes a fresher step with grate guitars and soulful orchestras. It would impress anyone who cares to listen! ^_^'}\n"
     ]
    },
    {
     "name": "stderr",
     "output_type": "stream",
     "text": [
      "Map: 100%|██████████| 3600000/3600000 [5:19:41<00:00, 187.68 examples/s]  "
     ]
    },
    {
     "name": "stdout",
     "output_type": "stream",
     "text": [
      "{'title': 'Stuning even for the non-gamer', 'content': 'This sound track was beautiful! It paints the senery in your mind so well I would recomend it even to people who hate vid. game music! I have played the game Chrono Cross but out of all of the games I have ever played it has the best music! It backs away from crude keyboarding and takes a fresher step with grate guitars and soulful orchestras. It would impress anyone who cares to listen! ^_^', 'text': 'Stuning even for the non-gamer This sound track was beautiful! It paints the senery in your mind so well I would recomend it even to people who hate vid. game music! I have played the game Chrono Cross but out of all of the games I have ever played it has the best music! It backs away from crude keyboarding and takes a fresher step with grate guitars and soulful orchestras. It would impress anyone who cares to listen! ^_^', 'label': {'label': '5 stars', 'score': tensor(0.7845, device='cuda:0')}}\n"
     ]
    },
    {
     "name": "stderr",
     "output_type": "stream",
     "text": [
      "\n"
     ]
    }
   ],
   "source": [
    "dataset = dataset.with_format(\"torch\", device=device)\n",
    "\n",
    "results = []\n",
    "\n",
    "def map_dataset(examples):\n",
    "    sent = sentiment_pipeline(examples[\"text\"],batch_size=4, truncation=True)\n",
    "    results.append(sent)\n",
    "    return {\"label\":sent }\n",
    "\n",
    "print(dataset[0])\n",
    "\n",
    "encoded_dataset = dataset.map(map_dataset, batched=True)\n",
    "\n",
    "print(encoded_dataset[0])"
   ]
  },
  {
   "cell_type": "code",
   "execution_count": 12,
   "metadata": {},
   "outputs": [
    {
     "name": "stderr",
     "output_type": "stream",
     "text": [
      "Map: 100%|██████████| 3600000/3600000 [21:44<00:00, 2760.50 examples/s]"
     ]
    },
    {
     "name": "stdout",
     "output_type": "stream",
     "text": [
      "{'title': 'Stuning even for the non-gamer', 'content': 'This sound track was beautiful! It paints the senery in your mind so well I would recomend it even to people who hate vid. game music! I have played the game Chrono Cross but out of all of the games I have ever played it has the best music! It backs away from crude keyboarding and takes a fresher step with grate guitars and soulful orchestras. It would impress anyone who cares to listen! ^_^', 'text': 'Stuning even for the non-gamer This sound track was beautiful! It paints the senery in your mind so well I would recomend it even to people who hate vid. game music! I have played the game Chrono Cross but out of all of the games I have ever played it has the best music! It backs away from crude keyboarding and takes a fresher step with grate guitars and soulful orchestras. It would impress anyone who cares to listen! ^_^', 'label': {'label': '5 stars', 'score': tensor(0.7845, device='cuda:0')}, 'sentiment': 'Perfect', 'score': tensor(0.7845, device='cuda:0')}\n"
     ]
    },
    {
     "name": "stderr",
     "output_type": "stream",
     "text": [
      "\n"
     ]
    }
   ],
   "source": [
    "def label_sentiment(sent):\n",
    "    if sent['label'] == '5 stars':\n",
    "        return 'Perfect'\n",
    "    elif sent['label'] == '4 stars':\n",
    "        return 'Satisfied'\n",
    "    elif sent['label'] == '3 stars':\n",
    "        return 'Neutral'\n",
    "    elif sent['label'] == '2 stars' or sent['label'] == '1 star':\n",
    "        return 'Negative'\n",
    "    else:\n",
    "        return 'Unknown'\n",
    "    \n",
    "def map_dataset_new_label(examples):\n",
    "    label_info = examples[\"label\"]\n",
    "    label_title = label_sentiment(label_info)  # Extract the label value from the tensor\n",
    "    score = label_info[\"score\"].item()  # Extract the score value from the tensor\n",
    "    return {\"title\": examples[\"title\"], \"content\": examples[\"content\"],\"text\":examples[\"text\"], \"sentiment\": label_title, \"score\": score}\n",
    "\n",
    "encoded_dataset = encoded_dataset.map(map_dataset_new_label)\n",
    "print(encoded_dataset[0])"
   ]
  },
  {
   "cell_type": "code",
   "execution_count": 13,
   "metadata": {},
   "outputs": [],
   "source": [
    "# Convert the dataset to a pandas DataFrame\n",
    "df = encoded_dataset.to_pandas()\n",
    "\n",
    "# Save the DataFrame to a CSV file\n",
    "df.to_csv(\"encoded_dataset.csv\", index=False)"
   ]
  }
 ],
 "metadata": {
  "kernelspec": {
   "display_name": ".venv",
   "language": "python",
   "name": "python3"
  },
  "language_info": {
   "codemirror_mode": {
    "name": "ipython",
    "version": 3
   },
   "file_extension": ".py",
   "mimetype": "text/x-python",
   "name": "python",
   "nbconvert_exporter": "python",
   "pygments_lexer": "ipython3",
   "version": "3.9.0"
  }
 },
 "nbformat": 4,
 "nbformat_minor": 2
}
